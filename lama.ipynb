{
 "cells": [
  {
   "cell_type": "code",
   "execution_count": 1,
   "metadata": {
    "collapsed": true,
    "pycharm": {
     "name": "#%%\n"
    }
   },
   "outputs": [],
   "source": [
    "# Standard python libraries\n",
    "import os\n",
    "import time\n",
    "\n",
    "# Essential DS libraries\n",
    "import numpy as np\n",
    "import pandas as pd\n",
    "from sklearn.metrics import f1_score\n",
    "from sklearn.model_selection import train_test_split, StratifiedKFold\n",
    "import torch\n",
    "import multiprocessing as mp\n",
    "\n",
    "# LightAutoML presets, task and report generation\n",
    "from lightautoml.automl.presets.tabular_presets import TabularAutoML, TabularUtilizedAutoML\n",
    "from lightautoml.automl.presets.text_presets import TabularNLPAutoML\n",
    "from lightautoml.tasks import Task\n",
    "from lightautoml.dataset.roles import DatetimeRole\n",
    "from lightautoml.report.report_deco import ReportDeco"
   ]
  },
  {
   "cell_type": "code",
   "execution_count": 2,
   "outputs": [],
   "source": [
    "N_THREADS = mp.cpu_count()\n",
    "N_FOLDS = 4\n",
    "RANDOM_STATE = 42\n",
    "TIMEOUT = 4400\n",
    "TEST_SIZE = 0.2\n",
    "TARGET_NAME = 'per_square_meter_price'\n",
    "PATH = 'data'"
   ],
   "metadata": {
    "collapsed": false,
    "pycharm": {
     "name": "#%%\n"
    }
   }
  },
  {
   "cell_type": "code",
   "execution_count": 3,
   "outputs": [],
   "source": [
    "np.random.seed(RANDOM_STATE)\n",
    "torch.set_num_threads(N_THREADS)\n",
    "folds = StratifiedKFold(n_splits=5, shuffle=True, random_state=RANDOM_STATE)"
   ],
   "metadata": {
    "collapsed": false,
    "pycharm": {
     "name": "#%%\n"
    }
   }
  },
  {
   "cell_type": "code",
   "execution_count": 4,
   "outputs": [],
   "source": [
    "train_data = pd.read_csv(os.path.join(PATH, 'train.csv.gz'))\n",
    "test_data = pd.read_csv(os.path.join(PATH, 'test.csv.gz'))\n",
    "submission = pd.read_csv(os.path.join(PATH, 'test_submission.csv'))"
   ],
   "metadata": {
    "collapsed": false,
    "pycharm": {
     "name": "#%%\n"
    }
   }
  },
  {
   "cell_type": "code",
   "execution_count": 5,
   "outputs": [
    {
     "name": "stdout",
     "output_type": "stream",
     "text": [
      "<class 'pandas.core.frame.DataFrame'>\n",
      "RangeIndex: 279792 entries, 0 to 279791\n",
      "Data columns (total 77 columns):\n",
      " #   Column                               Non-Null Count   Dtype  \n",
      "---  ------                               --------------   -----  \n",
      " 0   city                                 279792 non-null  object \n",
      " 1   floor                                103555 non-null  object \n",
      " 2   id                                   279792 non-null  object \n",
      " 3   lat                                  279792 non-null  float64\n",
      " 4   lng                                  279792 non-null  float64\n",
      " 5   osm_amenity_points_in_0.001          279792 non-null  int64  \n",
      " 6   osm_amenity_points_in_0.005          279792 non-null  int64  \n",
      " 7   osm_amenity_points_in_0.0075         279792 non-null  int64  \n",
      " 8   osm_amenity_points_in_0.01           279792 non-null  int64  \n",
      " 9   osm_building_points_in_0.001         279792 non-null  int64  \n",
      " 10  osm_building_points_in_0.005         279792 non-null  int64  \n",
      " 11  osm_building_points_in_0.0075        279792 non-null  int64  \n",
      " 12  osm_building_points_in_0.01          279792 non-null  int64  \n",
      " 13  osm_catering_points_in_0.001         279792 non-null  int64  \n",
      " 14  osm_catering_points_in_0.005         279792 non-null  int64  \n",
      " 15  osm_catering_points_in_0.0075        279792 non-null  int64  \n",
      " 16  osm_catering_points_in_0.01          279792 non-null  int64  \n",
      " 17  osm_city_closest_dist                279792 non-null  float64\n",
      " 18  osm_city_nearest_name                279792 non-null  object \n",
      " 19  osm_city_nearest_population          279737 non-null  float64\n",
      " 20  osm_crossing_closest_dist            279792 non-null  float64\n",
      " 21  osm_crossing_points_in_0.001         279792 non-null  int64  \n",
      " 22  osm_crossing_points_in_0.005         279792 non-null  int64  \n",
      " 23  osm_crossing_points_in_0.0075        279792 non-null  int64  \n",
      " 24  osm_crossing_points_in_0.01          279792 non-null  int64  \n",
      " 25  osm_culture_points_in_0.001          279792 non-null  int64  \n",
      " 26  osm_culture_points_in_0.005          279792 non-null  int64  \n",
      " 27  osm_culture_points_in_0.0075         279792 non-null  int64  \n",
      " 28  osm_culture_points_in_0.01           279792 non-null  int64  \n",
      " 29  osm_finance_points_in_0.001          279792 non-null  int64  \n",
      " 30  osm_finance_points_in_0.005          279792 non-null  int64  \n",
      " 31  osm_finance_points_in_0.0075         279792 non-null  int64  \n",
      " 32  osm_finance_points_in_0.01           279792 non-null  int64  \n",
      " 33  osm_healthcare_points_in_0.005       279792 non-null  int64  \n",
      " 34  osm_healthcare_points_in_0.0075      279792 non-null  int64  \n",
      " 35  osm_healthcare_points_in_0.01        279792 non-null  int64  \n",
      " 36  osm_historic_points_in_0.005         279792 non-null  int64  \n",
      " 37  osm_historic_points_in_0.0075        279792 non-null  int64  \n",
      " 38  osm_historic_points_in_0.01          279792 non-null  int64  \n",
      " 39  osm_hotels_points_in_0.005           279792 non-null  int64  \n",
      " 40  osm_hotels_points_in_0.0075          279792 non-null  int64  \n",
      " 41  osm_hotels_points_in_0.01            279792 non-null  int64  \n",
      " 42  osm_leisure_points_in_0.005          279792 non-null  int64  \n",
      " 43  osm_leisure_points_in_0.0075         279792 non-null  int64  \n",
      " 44  osm_leisure_points_in_0.01           279792 non-null  int64  \n",
      " 45  osm_offices_points_in_0.001          279792 non-null  int64  \n",
      " 46  osm_offices_points_in_0.005          279792 non-null  int64  \n",
      " 47  osm_offices_points_in_0.0075         279792 non-null  int64  \n",
      " 48  osm_offices_points_in_0.01           279792 non-null  int64  \n",
      " 49  osm_shops_points_in_0.001            279792 non-null  int64  \n",
      " 50  osm_shops_points_in_0.005            279792 non-null  int64  \n",
      " 51  osm_shops_points_in_0.0075           279792 non-null  int64  \n",
      " 52  osm_shops_points_in_0.01             279792 non-null  int64  \n",
      " 53  osm_subway_closest_dist              279792 non-null  float64\n",
      " 54  osm_train_stop_closest_dist          279792 non-null  float64\n",
      " 55  osm_train_stop_points_in_0.005       279792 non-null  int64  \n",
      " 56  osm_train_stop_points_in_0.0075      279792 non-null  int64  \n",
      " 57  osm_train_stop_points_in_0.01        279792 non-null  int64  \n",
      " 58  osm_transport_stop_closest_dist      279792 non-null  float64\n",
      " 59  osm_transport_stop_points_in_0.005   279792 non-null  int64  \n",
      " 60  osm_transport_stop_points_in_0.0075  279792 non-null  int64  \n",
      " 61  osm_transport_stop_points_in_0.01    279792 non-null  int64  \n",
      " 62  per_square_meter_price               279792 non-null  float64\n",
      " 63  reform_count_of_houses_1000          279792 non-null  int64  \n",
      " 64  reform_count_of_houses_500           279792 non-null  int64  \n",
      " 65  reform_house_population_1000         265196 non-null  float64\n",
      " 66  reform_house_population_500          252558 non-null  float64\n",
      " 67  reform_mean_floor_count_1000         263084 non-null  float64\n",
      " 68  reform_mean_floor_count_500          249624 non-null  float64\n",
      " 69  reform_mean_year_building_1000       263553 non-null  float64\n",
      " 70  reform_mean_year_building_500        250155 non-null  float64\n",
      " 71  region                               279792 non-null  object \n",
      " 72  total_square                         279792 non-null  float64\n",
      " 73  street                               278186 non-null  object \n",
      " 74  date                                 279792 non-null  object \n",
      " 75  realty_type                          279792 non-null  int64  \n",
      " 76  price_type                           279792 non-null  int64  \n",
      "dtypes: float64(16), int64(54), object(7)\n",
      "memory usage: 164.4+ MB\n"
     ]
    }
   ],
   "source": [
    "train_data.info()"
   ],
   "metadata": {
    "collapsed": false,
    "pycharm": {
     "name": "#%%\n"
    }
   }
  },
  {
   "cell_type": "code",
   "execution_count": 6,
   "outputs": [],
   "source": [
    "train = train_data[train_data.price_type == 0]\n",
    "test = train_data[train_data.price_type == 1]"
   ],
   "metadata": {
    "collapsed": false,
    "pycharm": {
     "name": "#%%\n"
    }
   }
  },
  {
   "cell_type": "code",
   "execution_count": 8,
   "outputs": [],
   "source": [
    "from raif_hack.metrics import deviation_metric, metrics_stat"
   ],
   "metadata": {
    "collapsed": false,
    "pycharm": {
     "name": "#%%\n"
    }
   }
  },
  {
   "cell_type": "code",
   "execution_count": 9,
   "outputs": [],
   "source": [
    "task = Task('reg', metric=deviation_metric, greater_is_better=False)\n",
    "roles = {'target': TARGET_NAME,\n",
    "         'category': ['city', 'floor', 'region', 'street'],\n",
    "         'drop': ['id', 'realty_type'],\n",
    "         DatetimeRole(base_date=True, seasonality=('y', 'm', 'wd'), base_feats=False): ['date']\n",
    "         }"
   ],
   "metadata": {
    "collapsed": false,
    "pycharm": {
     "name": "#%%\n"
    }
   }
  },
  {
   "cell_type": "code",
   "execution_count": 10,
   "outputs": [],
   "source": [
    "automl = TabularAutoML(task=task,\n",
    "                       memory_limit=8,\n",
    "                       timeout=TIMEOUT,\n",
    "                       cpu_limit=N_THREADS,\n",
    "                       verbose=2,\n",
    "                       general_params={'use_algos': [['lgb', 'cb'],\n",
    "                                                     ['lgb_tuned', 'cb_tuned'],\n",
    "                                                     ]},\n",
    "                       reader_params={'cv': N_FOLDS,\n",
    "                                      'random_state': RANDOM_STATE,\n",
    "                                      'n_jobs': N_THREADS},\n",
    "                       selection_params={  #'importance_type': 'permutation'\n",
    "                           'cutoff': 1}\n",
    "                       )"
   ],
   "metadata": {
    "collapsed": false,
    "pycharm": {
     "name": "#%%\n"
    }
   }
  },
  {
   "cell_type": "code",
   "execution_count": 11,
   "outputs": [
    {
     "name": "stderr",
     "output_type": "stream",
     "text": [
      "Copying TaskTimer may affect the parent PipelineTimer, so copy will create new unlimited TaskTimer\n"
     ]
    },
    {
     "name": "stdout",
     "output_type": "stream",
     "text": [
      "Start automl preset with listed constraints:\n",
      "- time: 4400 seconds\n",
      "- cpus: 8 cores\n",
      "- memory: 8 gb\n",
      "\n",
      "Train data shape: (275299, 77)\n",
      "Feats was rejected during automatic roles guess: []\n",
      "\n",
      "\n",
      "Layer 1 ...\n",
      "Train process start. Time left 4371.743892908096 secs\n",
      "Start fitting Selector_LightGBM ...\n",
      "\n",
      "===== Start working with fold 0 for Selector_LightGBM =====\n",
      "\n",
      "Training until validation scores don't improve for 100 rounds\n",
      "[100]\tvalid's l2: 7.77856e+09\tvalid's Opt metric: 3.95213\n",
      "[200]\tvalid's l2: 6.88868e+09\tvalid's Opt metric: 3.73402\n",
      "[300]\tvalid's l2: 6.49123e+09\tvalid's Opt metric: 3.64368\n",
      "[400]\tvalid's l2: 6.26438e+09\tvalid's Opt metric: 3.58542\n",
      "[500]\tvalid's l2: 6.07756e+09\tvalid's Opt metric: 3.53854\n",
      "[600]\tvalid's l2: 5.9441e+09\tvalid's Opt metric: 3.49657\n",
      "[700]\tvalid's l2: 5.8398e+09\tvalid's Opt metric: 3.46246\n",
      "[800]\tvalid's l2: 5.74855e+09\tvalid's Opt metric: 3.43301\n",
      "[900]\tvalid's l2: 5.67521e+09\tvalid's Opt metric: 3.40982\n",
      "[1000]\tvalid's l2: 5.61215e+09\tvalid's Opt metric: 3.38495\n",
      "[1100]\tvalid's l2: 5.55888e+09\tvalid's Opt metric: 3.36241\n",
      "[1200]\tvalid's l2: 5.50564e+09\tvalid's Opt metric: 3.34593\n",
      "[1300]\tvalid's l2: 5.45854e+09\tvalid's Opt metric: 3.32686\n",
      "[1400]\tvalid's l2: 5.42442e+09\tvalid's Opt metric: 3.30683\n",
      "[1500]\tvalid's l2: 5.39418e+09\tvalid's Opt metric: 3.28922\n",
      "[1600]\tvalid's l2: 5.3643e+09\tvalid's Opt metric: 3.27527\n",
      "[1700]\tvalid's l2: 5.34001e+09\tvalid's Opt metric: 3.26092\n",
      "[1800]\tvalid's l2: 5.31325e+09\tvalid's Opt metric: 3.24392\n",
      "[1900]\tvalid's l2: 5.29145e+09\tvalid's Opt metric: 3.22915\n",
      "[2000]\tvalid's l2: 5.26915e+09\tvalid's Opt metric: 3.21839\n",
      "Did not meet early stopping. Best iteration is:\n",
      "[2000]\tvalid's l2: 5.26915e+09\tvalid's Opt metric: 3.21839\n",
      "Selector_LightGBM fitting and predicting completed\n",
      "Start fitting Lvl_0_Pipe_0_Mod_0_LightGBM ...\n",
      "\n",
      "===== Start working with fold 0 for Lvl_0_Pipe_0_Mod_0_LightGBM =====\n",
      "\n",
      "Training until validation scores don't improve for 100 rounds\n",
      "[100]\tvalid's l2: 6.40528e+09\tvalid's Opt metric: 3.28184\n",
      "[200]\tvalid's l2: 6.09887e+09\tvalid's Opt metric: 3.12336\n",
      "[300]\tvalid's l2: 5.97111e+09\tvalid's Opt metric: 3.09831\n",
      "[400]\tvalid's l2: 5.90358e+09\tvalid's Opt metric: 3.06817\n",
      "[500]\tvalid's l2: 5.85675e+09\tvalid's Opt metric: 3.04774\n",
      "[600]\tvalid's l2: 5.81994e+09\tvalid's Opt metric: 3.03412\n",
      "[700]\tvalid's l2: 5.79543e+09\tvalid's Opt metric: 3.01947\n",
      "[800]\tvalid's l2: 5.7665e+09\tvalid's Opt metric: 3.00798\n",
      "[900]\tvalid's l2: 5.75772e+09\tvalid's Opt metric: 3.0006\n",
      "[1000]\tvalid's l2: 5.73944e+09\tvalid's Opt metric: 2.99325\n",
      "[1100]\tvalid's l2: 5.72337e+09\tvalid's Opt metric: 2.98411\n",
      "[1200]\tvalid's l2: 5.70834e+09\tvalid's Opt metric: 2.98026\n",
      "[1300]\tvalid's l2: 5.69018e+09\tvalid's Opt metric: 2.97918\n",
      "[1400]\tvalid's l2: 5.68229e+09\tvalid's Opt metric: 2.97576\n",
      "[1500]\tvalid's l2: 5.67226e+09\tvalid's Opt metric: 2.97133\n",
      "[1600]\tvalid's l2: 5.66242e+09\tvalid's Opt metric: 2.96389\n",
      "[1700]\tvalid's l2: 5.65626e+09\tvalid's Opt metric: 2.96131\n",
      "[1800]\tvalid's l2: 5.65342e+09\tvalid's Opt metric: 2.95893\n",
      "[1900]\tvalid's l2: 5.65216e+09\tvalid's Opt metric: 2.95833\n",
      "Early stopping, best iteration is:\n",
      "[1863]\tvalid's l2: 5.65031e+09\tvalid's Opt metric: 2.95668\n"
     ]
    },
    {
     "name": "stderr",
     "output_type": "stream",
     "text": [
      "Time limit exceeded after calculating fold 0\n"
     ]
    },
    {
     "name": "stdout",
     "output_type": "stream",
     "text": [
      "Lvl_0_Pipe_0_Mod_0_LightGBM fitting and predicting completed\n",
      "Start fitting Lvl_0_Pipe_0_Mod_1_CatBoost ...\n",
      "\n",
      "===== Start working with fold 0 for Lvl_0_Pipe_0_Mod_1_CatBoost =====\n",
      "\n",
      "0:\tlearn: 167776.0994196\ttest: 167402.6537983\tbest: 167402.6537983 (0)\ttotal: 91.7ms\tremaining: 3m 3s\n",
      "100:\tlearn: 91590.8429952\ttest: 88366.9488897\tbest: 88366.9488897 (100)\ttotal: 1.71s\tremaining: 32.1s\n",
      "200:\tlearn: 87916.4741644\ttest: 85859.7414031\tbest: 85859.7414031 (200)\ttotal: 3.13s\tremaining: 28s\n",
      "300:\tlearn: 85498.9995406\ttest: 84435.3167305\tbest: 84435.3167305 (300)\ttotal: 4.61s\tremaining: 26s\n",
      "400:\tlearn: 83713.5122343\ttest: 83652.2332853\tbest: 83652.2332853 (400)\ttotal: 6.04s\tremaining: 24.1s\n",
      "500:\tlearn: 82279.9387585\ttest: 82964.1371826\tbest: 82964.1371826 (500)\ttotal: 7.54s\tremaining: 22.5s\n",
      "600:\tlearn: 81022.2046339\ttest: 82464.8903399\tbest: 82462.5496876 (597)\ttotal: 8.98s\tremaining: 20.9s\n",
      "700:\tlearn: 79957.4259357\ttest: 82041.1854370\tbest: 82041.1854370 (700)\ttotal: 10.4s\tremaining: 19.3s\n",
      "800:\tlearn: 79014.4588656\ttest: 81705.4293840\tbest: 81703.5151993 (798)\ttotal: 11.8s\tremaining: 17.7s\n",
      "900:\tlearn: 78205.0390050\ttest: 81441.7114135\tbest: 81441.7114135 (900)\ttotal: 13.3s\tremaining: 16.2s\n",
      "1000:\tlearn: 77449.5129149\ttest: 81270.7917994\tbest: 81270.7917994 (1000)\ttotal: 14.8s\tremaining: 14.8s\n",
      "1100:\tlearn: 76741.5194411\ttest: 81070.1699833\tbest: 81070.1699833 (1100)\ttotal: 16.2s\tremaining: 13.3s\n",
      "1200:\tlearn: 76085.8611591\ttest: 80838.5257458\tbest: 80833.8559922 (1197)\ttotal: 17.7s\tremaining: 11.8s\n",
      "1300:\tlearn: 75500.1912704\ttest: 80703.4380166\tbest: 80703.1277755 (1298)\ttotal: 19.1s\tremaining: 10.3s\n",
      "1400:\tlearn: 74908.7296041\ttest: 80466.6028484\tbest: 80466.6028484 (1400)\ttotal: 20.5s\tremaining: 8.78s\n",
      "1500:\tlearn: 74387.6292821\ttest: 80406.0305877\tbest: 80393.9053169 (1473)\ttotal: 22s\tremaining: 7.31s\n",
      "1600:\tlearn: 73883.9699091\ttest: 80241.4170934\tbest: 80237.9603547 (1596)\ttotal: 23.5s\tremaining: 5.85s\n",
      "1700:\tlearn: 73425.9806072\ttest: 80116.4909112\tbest: 80116.4909112 (1700)\ttotal: 24.9s\tremaining: 4.38s\n",
      "1800:\tlearn: 72965.7845862\ttest: 80003.9504111\tbest: 80003.9504111 (1800)\ttotal: 26.4s\tremaining: 2.92s\n",
      "1900:\tlearn: 72528.7972346\ttest: 79865.4984677\tbest: 79865.4984677 (1900)\ttotal: 28.3s\tremaining: 1.47s\n",
      "1999:\tlearn: 72123.6538505\ttest: 79777.2366672\tbest: 79775.4750700 (1993)\ttotal: 29.7s\tremaining: 0us\n",
      "\n",
      "bestTest = 79775.47507\n",
      "bestIteration = 1993\n",
      "\n",
      "Shrink model to first 1994 iterations.\n",
      "\n",
      "===== Start working with fold 1 for Lvl_0_Pipe_0_Mod_1_CatBoost =====\n",
      "\n",
      "0:\tlearn: 167586.0078563\ttest: 167995.0457123\tbest: 167995.0457123 (0)\ttotal: 19.3ms\tremaining: 38.5s\n",
      "100:\tlearn: 90979.6105676\ttest: 93238.4387404\tbest: 93238.4387404 (100)\ttotal: 1.81s\tremaining: 34.1s\n",
      "200:\tlearn: 87200.0825219\ttest: 90769.8994320\tbest: 90769.8994320 (200)\ttotal: 3.41s\tremaining: 30.5s\n",
      "300:\tlearn: 84768.7136948\ttest: 89524.7543531\tbest: 89524.7543531 (300)\ttotal: 5.07s\tremaining: 28.6s\n",
      "400:\tlearn: 82951.1137687\ttest: 88632.1792621\tbest: 88632.1792621 (400)\ttotal: 6.54s\tremaining: 26.1s\n",
      "500:\tlearn: 81457.3506533\ttest: 88022.3196988\tbest: 88022.3196988 (500)\ttotal: 7.95s\tremaining: 23.8s\n",
      "600:\tlearn: 80310.9455326\ttest: 87469.5359969\tbest: 87469.5359969 (600)\ttotal: 9.35s\tremaining: 21.8s\n",
      "700:\tlearn: 79233.2077790\ttest: 87005.3062580\tbest: 87005.3062580 (700)\ttotal: 10.9s\tremaining: 20.1s\n",
      "800:\tlearn: 78272.1752836\ttest: 86609.8211349\tbest: 86609.8211349 (800)\ttotal: 12.9s\tremaining: 19.3s\n",
      "900:\tlearn: 77444.4204051\ttest: 86361.9844840\tbest: 86361.9844840 (900)\ttotal: 15.4s\tremaining: 18.8s\n",
      "1000:\tlearn: 76680.8515159\ttest: 86121.3452648\tbest: 86120.5863718 (999)\ttotal: 17.3s\tremaining: 17.3s\n",
      "1100:\tlearn: 75959.1189062\ttest: 85943.6671132\tbest: 85943.6671132 (1100)\ttotal: 19s\tremaining: 15.5s\n",
      "1200:\tlearn: 75241.9611410\ttest: 85716.7046528\tbest: 85716.7046528 (1200)\ttotal: 20.6s\tremaining: 13.7s\n",
      "1300:\tlearn: 74617.1559572\ttest: 85566.6471246\tbest: 85563.3791089 (1294)\ttotal: 22.1s\tremaining: 11.9s\n",
      "1400:\tlearn: 74074.7583002\ttest: 85394.4648790\tbest: 85394.4648790 (1400)\ttotal: 23.5s\tremaining: 10s\n",
      "1500:\tlearn: 73566.2370967\ttest: 85209.4749551\tbest: 85209.4749551 (1500)\ttotal: 25.1s\tremaining: 8.34s\n",
      "1600:\tlearn: 73057.5994948\ttest: 85064.4102029\tbest: 85061.5103749 (1598)\ttotal: 26.7s\tremaining: 6.66s\n",
      "1700:\tlearn: 72573.4569072\ttest: 84916.5531839\tbest: 84916.5531839 (1700)\ttotal: 28.3s\tremaining: 4.97s\n",
      "1800:\tlearn: 72099.1700255\ttest: 84815.6798990\tbest: 84815.6798990 (1800)\ttotal: 29.9s\tremaining: 3.3s\n",
      "1900:\tlearn: 71671.9549593\ttest: 84749.5807647\tbest: 84732.5665883 (1866)\ttotal: 31.4s\tremaining: 1.64s\n",
      "1999:\tlearn: 71246.1344115\ttest: 84650.8644310\tbest: 84650.8644310 (1999)\ttotal: 32.9s\tremaining: 0us\n",
      "\n",
      "bestTest = 84650.86443\n",
      "bestIteration = 1999\n",
      "\n",
      "\n",
      "===== Start working with fold 2 for Lvl_0_Pipe_0_Mod_1_CatBoost =====\n",
      "\n",
      "0:\tlearn: 167208.1231427\ttest: 169073.9939134\tbest: 169073.9939134 (0)\ttotal: 30.4ms\tremaining: 1m\n",
      "100:\tlearn: 90411.2789893\ttest: 92641.9756631\tbest: 92641.9756631 (100)\ttotal: 1.94s\tremaining: 36.5s\n",
      "200:\tlearn: 86903.9031055\ttest: 89336.8122842\tbest: 89336.8122842 (200)\ttotal: 3.59s\tremaining: 32.1s\n",
      "300:\tlearn: 84703.5210605\ttest: 87608.1164126\tbest: 87608.1164126 (300)\ttotal: 5.21s\tremaining: 29.4s\n",
      "400:\tlearn: 83023.0902976\ttest: 86430.1359168\tbest: 86430.1359168 (400)\ttotal: 6.84s\tremaining: 27.3s\n",
      "500:\tlearn: 81667.9650092\ttest: 85625.6379611\tbest: 85625.6379611 (500)\ttotal: 8.52s\tremaining: 25.5s\n",
      "600:\tlearn: 80444.2903471\ttest: 84885.2605627\tbest: 84885.2605627 (600)\ttotal: 10.2s\tremaining: 23.7s\n",
      "700:\tlearn: 79350.4653003\ttest: 84337.6552631\tbest: 84337.6552631 (700)\ttotal: 11.8s\tremaining: 21.9s\n",
      "800:\tlearn: 78443.8636264\ttest: 83926.4930140\tbest: 83926.4930140 (800)\ttotal: 13.4s\tremaining: 20.1s\n",
      "900:\tlearn: 77617.5729016\ttest: 83564.2595269\tbest: 83564.2595269 (900)\ttotal: 15s\tremaining: 18.3s\n",
      "1000:\tlearn: 76858.7682137\ttest: 83207.9485116\tbest: 83207.9485116 (1000)\ttotal: 16.6s\tremaining: 16.5s\n",
      "1100:\tlearn: 76181.5679296\ttest: 82922.9091999\tbest: 82922.9091999 (1100)\ttotal: 18.1s\tremaining: 14.8s\n",
      "1200:\tlearn: 75516.1252236\ttest: 82631.0090784\tbest: 82631.0090784 (1200)\ttotal: 19.7s\tremaining: 13.1s\n",
      "1300:\tlearn: 74922.3187407\ttest: 82444.8874246\tbest: 82444.1906410 (1299)\ttotal: 21.2s\tremaining: 11.4s\n",
      "1400:\tlearn: 74346.0735465\ttest: 82303.1201323\tbest: 82301.3802333 (1398)\ttotal: 22.7s\tremaining: 9.72s\n",
      "1500:\tlearn: 73807.7030848\ttest: 82063.9961948\tbest: 82063.9961948 (1500)\ttotal: 24.3s\tremaining: 8.07s\n",
      "1600:\tlearn: 73308.5568000\ttest: 81903.6856960\tbest: 81903.6856960 (1600)\ttotal: 25.8s\tremaining: 6.43s\n",
      "1700:\tlearn: 72836.6130356\ttest: 81747.3736410\tbest: 81746.2958261 (1698)\ttotal: 27.3s\tremaining: 4.81s\n",
      "1800:\tlearn: 72369.7780708\ttest: 81590.2036944\tbest: 81587.6538717 (1798)\ttotal: 28.9s\tremaining: 3.2s\n",
      "1900:\tlearn: 71938.1394976\ttest: 81460.1974136\tbest: 81460.1974136 (1900)\ttotal: 30.6s\tremaining: 1.59s\n",
      "1999:\tlearn: 71527.2086828\ttest: 81355.5316622\tbest: 81355.5316622 (1999)\ttotal: 32.2s\tremaining: 0us\n",
      "\n",
      "bestTest = 81355.53166\n",
      "bestIteration = 1999\n",
      "\n",
      "\n",
      "===== Start working with fold 3 for Lvl_0_Pipe_0_Mod_1_CatBoost =====\n",
      "\n",
      "0:\tlearn: 168168.9699436\ttest: 166228.1852290\tbest: 166228.1852290 (0)\ttotal: 17.3ms\tremaining: 34.5s\n",
      "100:\tlearn: 89821.2872992\ttest: 93852.0268037\tbest: 93852.0268037 (100)\ttotal: 1.78s\tremaining: 33.4s\n",
      "200:\tlearn: 86048.4369626\ttest: 91595.3400373\tbest: 91595.3400373 (200)\ttotal: 3.4s\tremaining: 30.4s\n",
      "300:\tlearn: 83703.6789512\ttest: 90387.5394069\tbest: 90387.5394069 (300)\ttotal: 4.95s\tremaining: 28s\n",
      "400:\tlearn: 81984.2931007\ttest: 89398.7598596\tbest: 89398.7598596 (400)\ttotal: 6.44s\tremaining: 25.7s\n",
      "500:\tlearn: 80557.6872670\ttest: 88663.4538208\tbest: 88663.4538208 (500)\ttotal: 7.97s\tremaining: 23.8s\n",
      "600:\tlearn: 79304.2695468\ttest: 88042.7409709\tbest: 88042.7409709 (600)\ttotal: 9.46s\tremaining: 22s\n",
      "700:\tlearn: 78221.7493970\ttest: 87555.1952954\tbest: 87541.2511964 (697)\ttotal: 10.9s\tremaining: 20.3s\n",
      "800:\tlearn: 77284.0055787\ttest: 87124.4022100\tbest: 87122.5444947 (799)\ttotal: 12.5s\tremaining: 18.7s\n",
      "900:\tlearn: 76423.2000472\ttest: 86798.2812915\tbest: 86798.2812915 (900)\ttotal: 14s\tremaining: 17.1s\n",
      "1000:\tlearn: 75678.9762967\ttest: 86598.5616536\tbest: 86598.5616536 (1000)\ttotal: 15.5s\tremaining: 15.5s\n",
      "1100:\tlearn: 75002.2613854\ttest: 86305.2318753\tbest: 86305.2318753 (1100)\ttotal: 17.1s\tremaining: 14s\n",
      "1200:\tlearn: 74371.0879723\ttest: 86068.9057343\tbest: 86068.9057343 (1200)\ttotal: 18.9s\tremaining: 12.6s\n",
      "1300:\tlearn: 73793.2809453\ttest: 85871.7316024\tbest: 85869.0531864 (1299)\ttotal: 20.4s\tremaining: 11s\n",
      "1400:\tlearn: 73273.3835071\ttest: 85716.6588119\tbest: 85716.1945938 (1399)\ttotal: 22.1s\tremaining: 9.45s\n",
      "1500:\tlearn: 72764.3211241\ttest: 85560.4902442\tbest: 85560.3256977 (1499)\ttotal: 25.2s\tremaining: 8.37s\n",
      "1600:\tlearn: 72242.8023370\ttest: 85346.0544493\tbest: 85346.0544493 (1600)\ttotal: 27.4s\tremaining: 6.83s\n",
      "1700:\tlearn: 71756.4878211\ttest: 85195.6689106\tbest: 85193.0224636 (1697)\ttotal: 29.3s\tremaining: 5.15s\n",
      "1800:\tlearn: 71325.7162026\ttest: 85033.6277577\tbest: 85033.6277577 (1800)\ttotal: 30.9s\tremaining: 3.42s\n",
      "1900:\tlearn: 70894.8551075\ttest: 84850.7007694\tbest: 84849.7720558 (1899)\ttotal: 32.6s\tremaining: 1.7s\n",
      "1999:\tlearn: 70505.9656774\ttest: 84720.8215828\tbest: 84720.8215828 (1999)\ttotal: 34.3s\tremaining: 0us\n",
      "\n",
      "bestTest = 84720.82158\n",
      "bestIteration = 1999\n",
      "\n",
      "Lvl_0_Pipe_0_Mod_1_CatBoost fitting and predicting completed\n",
      "Time left 2590.0230116844177\n"
     ]
    },
    {
     "name": "stderr",
     "output_type": "stream",
     "text": [
      "Time limit exceeded in one of the tasks. AutoML will blend level 1 models.\n"
     ]
    },
    {
     "name": "stdout",
     "output_type": "stream",
     "text": [
      "Blending: Optimization starts with equal weights and score -3.3217908600981874\n",
      "Blending, iter 0: score = -2.9566811292546316, weights = [1. 0.]\n",
      "Blending, iter 1: score = -2.9566811292546316, weights = [1. 0.]\n",
      "No score update. Terminated\n",
      "\n",
      "Automl preset training completed in 1840.68 seconds.\n"
     ]
    }
   ],
   "source": [
    "oof_pred = automl.fit_predict(train, roles=roles)"
   ],
   "metadata": {
    "collapsed": false,
    "pycharm": {
     "name": "#%%\n"
    }
   }
  },
  {
   "cell_type": "code",
   "execution_count": 12,
   "outputs": [],
   "source": [
    "pred = automl.predict(test)"
   ],
   "metadata": {
    "collapsed": false,
    "pycharm": {
     "name": "#%%\n"
    }
   }
  },
  {
   "cell_type": "code",
   "execution_count": 13,
   "outputs": [
    {
     "data": {
      "text/plain": "{'mape': 0.4098644804180296,\n 'mdape': 0.2847763024498874,\n 'rmse': 83554.44754987463,\n 'r2': 0.12664516736389086,\n 'raif_metric': 2.856257747879485}"
     },
     "execution_count": 13,
     "metadata": {},
     "output_type": "execute_result"
    }
   ],
   "source": [
    "metrics_stat(test[TARGET_NAME].values, pred.data[:, 0])"
   ],
   "metadata": {
    "collapsed": false,
    "pycharm": {
     "name": "#%%\n"
    }
   }
  },
  {
   "cell_type": "code",
   "execution_count": 24,
   "outputs": [],
   "source": [
    "deviation = ((pred.data[:, 0] - test[TARGET_NAME])/pred.data[:, 0]).median()"
   ],
   "metadata": {
    "collapsed": false,
    "pycharm": {
     "name": "#%%\n"
    }
   }
  },
  {
   "cell_type": "code",
   "execution_count": 25,
   "outputs": [
    {
     "data": {
      "text/plain": "{'mape': 0.4791313475995533,\n 'mdape': 0.32408673800074383,\n 'rmse': 86741.99729685609,\n 'r2': 0.05873823116139676,\n 'raif_metric': 3.440474562195135}"
     },
     "execution_count": 25,
     "metadata": {},
     "output_type": "execute_result"
    }
   ],
   "source": [
    "metrics_stat(test[TARGET_NAME].values, pred.data[:, 0]*(1 + deviation))"
   ],
   "metadata": {
    "collapsed": false,
    "pycharm": {
     "name": "#%%\n"
    }
   }
  },
  {
   "cell_type": "code",
   "execution_count": 19,
   "outputs": [],
   "source": [
    "prediction = automl.predict(test_data)"
   ],
   "metadata": {
    "collapsed": false,
    "pycharm": {
     "name": "#%%\n"
    }
   }
  },
  {
   "cell_type": "code",
   "execution_count": 20,
   "outputs": [],
   "source": [
    "test_data[TARGET_NAME] = prediction.data[:,0]"
   ],
   "metadata": {
    "collapsed": false,
    "pycharm": {
     "name": "#%%\n"
    }
   }
  },
  {
   "cell_type": "code",
   "execution_count": 21,
   "outputs": [],
   "source": [
    "test_data[['id',TARGET_NAME]].to_csv('sample_sabmission.csv',index=False)"
   ],
   "metadata": {
    "collapsed": false,
    "pycharm": {
     "name": "#%%\n"
    }
   }
  },
  {
   "cell_type": "code",
   "execution_count": null,
   "outputs": [],
   "source": [],
   "metadata": {
    "collapsed": false,
    "pycharm": {
     "name": "#%%\n"
    }
   }
  }
 ],
 "metadata": {
  "kernelspec": {
   "display_name": "Python 3",
   "language": "python",
   "name": "python3"
  },
  "language_info": {
   "codemirror_mode": {
    "name": "ipython",
    "version": 2
   },
   "file_extension": ".py",
   "mimetype": "text/x-python",
   "name": "python",
   "nbconvert_exporter": "python",
   "pygments_lexer": "ipython2",
   "version": "2.7.6"
  }
 },
 "nbformat": 4,
 "nbformat_minor": 0
}